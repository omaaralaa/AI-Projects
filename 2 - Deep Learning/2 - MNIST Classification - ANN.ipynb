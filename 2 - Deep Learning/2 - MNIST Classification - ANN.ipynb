{
 "cells": [
  {
   "cell_type": "markdown",
   "id": "7c825e95",
   "metadata": {},
   "source": [
    "# Importing Libraries"
   ]
  },
  {
   "cell_type": "code",
   "execution_count": 2,
   "id": "b84d8e4e",
   "metadata": {
    "ExecuteTime": {
     "end_time": "2023-07-30T12:18:24.667549Z",
     "start_time": "2023-07-30T12:18:06.519069Z"
    }
   },
   "outputs": [],
   "source": [
    "import tensorflow as tf\n",
    "import keras\n",
    "import pandas as pd\n",
    "import matplotlib.pyplot as plt\n",
    "import seaborn as sns"
   ]
  },
  {
   "cell_type": "code",
   "execution_count": 3,
   "id": "95435359",
   "metadata": {
    "ExecuteTime": {
     "end_time": "2023-07-30T12:18:25.437109Z",
     "start_time": "2023-07-30T12:18:24.676544Z"
    }
   },
   "outputs": [],
   "source": [
    "import sklearn\n",
    "from sklearn.model_selection import train_test_split"
   ]
  },
  {
   "cell_type": "code",
   "execution_count": 4,
   "id": "48b9a256",
   "metadata": {
    "ExecuteTime": {
     "end_time": "2023-07-30T12:18:25.467091Z",
     "start_time": "2023-07-30T12:18:25.447104Z"
    }
   },
   "outputs": [],
   "source": [
    "from keras.datasets import mnist"
   ]
  },
  {
   "cell_type": "code",
   "execution_count": 5,
   "id": "48498564",
   "metadata": {
    "ExecuteTime": {
     "end_time": "2023-07-30T12:18:27.071215Z",
     "start_time": "2023-07-30T12:18:25.480089Z"
    }
   },
   "outputs": [],
   "source": [
    "#scalling or normalization\n",
    "(x_train, y_train),(x_test, y_test) = mnist.load_data()\n",
    "x_train, x_test = x_train / 255.0, x_test / 255.0"
   ]
  },
  {
   "cell_type": "markdown",
   "id": "665c9e9d",
   "metadata": {},
   "source": [
    "# Building ANN"
   ]
  },
  {
   "cell_type": "code",
   "execution_count": 6,
   "id": "12a1cae3",
   "metadata": {
    "ExecuteTime": {
     "end_time": "2023-07-30T12:18:28.178197Z",
     "start_time": "2023-07-30T12:18:27.084209Z"
    }
   },
   "outputs": [],
   "source": [
    "ann = keras.models.Sequential([\n",
    "    #input layer\n",
    "  keras.layers.Flatten(input_shape=(28, 28)),\n",
    "    #hidden layers ---> 2**n --> descending\n",
    "  keras.layers.Dense(512, activation=tf.nn.relu),\n",
    "  keras.layers.Dense(128, activation=tf.nn.relu),\n",
    "    #output layer\n",
    "  keras.layers.Dense(10, activation=tf.nn.softmax)\n",
    "])"
   ]
  },
  {
   "cell_type": "code",
   "execution_count": 7,
   "id": "7d6167e2",
   "metadata": {
    "ExecuteTime": {
     "end_time": "2023-07-30T12:18:28.224171Z",
     "start_time": "2023-07-30T12:18:28.183196Z"
    }
   },
   "outputs": [],
   "source": [
    "ann.compile(optimizer='adam',\n",
    "            # sparse categorical lf because our problem is multiclass classification\n",
    "              loss='sparse_categorical_crossentropy',\n",
    "              metrics=['accuracy'])"
   ]
  },
  {
   "cell_type": "code",
   "execution_count": 8,
   "id": "3e0cdc58",
   "metadata": {
    "ExecuteTime": {
     "end_time": "2023-07-30T12:20:23.168458Z",
     "start_time": "2023-07-30T12:18:28.228169Z"
    }
   },
   "outputs": [
    {
     "name": "stdout",
     "output_type": "stream",
     "text": [
      "Epoch 1/3\n",
      "1875/1875 [==============================] - 37s 19ms/step - loss: 0.1856 - accuracy: 0.9438\n",
      "Epoch 2/3\n",
      "1875/1875 [==============================] - 36s 19ms/step - loss: 0.0787 - accuracy: 0.9750\n",
      "Epoch 3/3\n",
      "1875/1875 [==============================] - 41s 22ms/step - loss: 0.0537 - accuracy: 0.9827\n"
     ]
    },
    {
     "data": {
      "text/plain": [
       "<keras.callbacks.History at 0x2d83e2098d0>"
      ]
     },
     "execution_count": 8,
     "metadata": {},
     "output_type": "execute_result"
    }
   ],
   "source": [
    "ann.fit(x_train, y_train, epochs=3)"
   ]
  },
  {
   "cell_type": "code",
   "execution_count": 9,
   "id": "f0a0ef10",
   "metadata": {
    "ExecuteTime": {
     "end_time": "2023-07-30T12:20:26.328606Z",
     "start_time": "2023-07-30T12:20:23.181450Z"
    }
   },
   "outputs": [
    {
     "name": "stdout",
     "output_type": "stream",
     "text": [
      "313/313 [==============================] - 3s 7ms/step - loss: 0.0662 - accuracy: 0.9802\n"
     ]
    },
    {
     "data": {
      "text/plain": [
       "[0.06622986495494843, 0.9801999926567078]"
      ]
     },
     "execution_count": 9,
     "metadata": {},
     "output_type": "execute_result"
    }
   ],
   "source": [
    "ann.evaluate(x_test, y_test)"
   ]
  }
 ],
 "metadata": {
  "kernelspec": {
   "display_name": "Python 3 (ipykernel)",
   "language": "python",
   "name": "python3"
  },
  "language_info": {
   "codemirror_mode": {
    "name": "ipython",
    "version": 3
   },
   "file_extension": ".py",
   "mimetype": "text/x-python",
   "name": "python",
   "nbconvert_exporter": "python",
   "pygments_lexer": "ipython3",
   "version": "3.10.9"
  }
 },
 "nbformat": 4,
 "nbformat_minor": 5
}
